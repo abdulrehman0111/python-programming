{
 "cells": [
  {
   "cell_type": "code",
   "execution_count": 4,
   "metadata": {},
   "outputs": [
    {
     "name": "stdout",
     "output_type": "stream",
     "text": [
      "---WELCOME TO MOVIE THEATER---\n",
      "ENTER HOW MANY PERSON :10\n",
      "YOUR ENTRY IS AT COST OF 10$\n"
     ]
    }
   ],
   "source": [
    "#question 3\n",
    "print(\"---WELCOME TO MOVIE THEATER---\")\n",
    "pre = int(input(\"ENTER HOW MANY PERSON :\"))\n",
    "\n",
    "for c in range (pre):\n",
    "    if pre <= 3:\n",
    "        print(\"YOUR ENTRY IS FREE\")\n",
    "        break\n",
    "    elif pre <= 12:\n",
    "        print(\"YOUR ENTRY IS AT COST OF 10$\")\n",
    "        break\n",
    "    elif pre > 12:\n",
    "        print(\"YOUR ENTRY IS AT COST OF 15$\")\n",
    "        break\n",
    "    else:\n",
    "        print(\"INVALID ENTRY\")\n",
    "        break        "
   ]
  },
  {
   "cell_type": "code",
   "execution_count": 11,
   "metadata": {},
   "outputs": [
    {
     "name": "stdout",
     "output_type": "stream",
     "text": [
      "---NUMBER GAME---\n",
      "guess the number :\n",
      "19\n",
      "YOU HAVE THREE CHANCES TO WIN\n",
      "\n",
      "ENTER ANY NUMBER B/W 1 TO 30 : 20\n",
      "YOU LOSE\n",
      "\n",
      "ENTER ANY NUMBER B/W 1 TO 30 : 11\n",
      "YOU LOSE\n",
      "\n",
      "ENTER ANY NUMBER B/W 1 TO 30 : 19\n",
      "YOU WIN\n"
     ]
    }
   ],
   "source": [
    "#question 5\n",
    "import random\n",
    "print(\"---NUMBER GAME---\")\n",
    "print(\"guess the number :\")\n",
    "number = random.randint(1,30)\n",
    "print(number)\n",
    "print(\"YOU HAVE THREE CHANCES TO WIN\")\n",
    "\n",
    "for x in range (3):\n",
    "    user_number = int(input(\"\\nENTER ANY NUMBER B/W 1 TO 30 : \"))\n",
    "    if user_number == number:\n",
    "        print(\"YOU WIN\")\n",
    "        break\n",
    "    else:\n",
    "        print(\"YOU LOSE\")"
   ]
  },
  {
   "cell_type": "code",
   "execution_count": 26,
   "metadata": {},
   "outputs": [
    {
     "name": "stdout",
     "output_type": "stream",
     "text": [
      "\n",
      "---KEYs IN THE DICTIONARY---\n",
      "first_name : abdul\n",
      "last_name : rehman\n",
      "age : 23\n",
      "city : karachi\n",
      "\n",
      "---ADD NEW KEY IN THE DICTIONARY---\n",
      "first_name : abdul\n",
      "last_name : rehman\n",
      "age : 23\n",
      "city : karachi\n",
      "qualification : intermediate\n",
      "\n",
      "---UPDATE KEY IN THE DICTIONARY---\n",
      "first_name : abdul\n",
      "last_name : rehman\n",
      "age : 23\n",
      "city : karachi\n",
      "qualification : bachelors\n",
      "\n",
      "---DELETE KEY IN THE DICTIONARY---\n",
      "first_name : abdul\n",
      "last_name : rehman\n",
      "age : 23\n",
      "city : karachi\n"
     ]
    }
   ],
   "source": [
    "#question 1\n",
    "person = {\n",
    "    \"first_name\":\"abdul\",\n",
    "    \"last_name\":\"rehman\",\n",
    "    \"age\":\"23\",\n",
    "    \"city\":\"karachi\"\n",
    "}\n",
    "\n",
    "def print_dic_values_and_key(dictionary_name):\n",
    "    for keys,values in  dictionary_name.items():\n",
    "        print(keys + \" : \" + values)\n",
    "print(\"\\n---KEYs IN THE DICTIONARY---\")\n",
    "print_dic_values_and_key(person)\n",
    "print(\"\\n---ADD NEW KEY IN THE DICTIONARY---\")\n",
    "person.update({\"qualification\":\"intermediate\"})\n",
    "print_dic_values_and_key(person)\n",
    "print(\"\\n---UPDATE KEY IN THE DICTIONARY---\")\n",
    "person['qualification'] = \"bachelors\"\n",
    "print_dic_values_and_key(person)\n",
    "print(\"\\n---DELETE KEY IN THE DICTIONARY---\")\n",
    "del person['qualification']\n",
    "print_dic_values_and_key(person)"
   ]
  },
  {
   "cell_type": "code",
   "execution_count": 30,
   "metadata": {},
   "outputs": [
    {
     "name": "stdout",
     "output_type": "stream",
     "text": [
      "Currently we have 3 cities database which is below mentioned\n",
      "\n",
      "Karachi\n",
      "dubai\n",
      "ottawa\n",
      "\n",
      "Enter above mentioned city name to fetch data from Karachi\n",
      "Karachi : {'country': 'pakistan', 'population': '15741000', 'fact': 'it is the sixth largest city in the world by the city population'}\n"
     ]
    }
   ],
   "source": [
    "#question 2\n",
    "cities = {\n",
    "    \"Karachi\" : {\n",
    "        \"country\":\"pakistan\",\n",
    "        \"population\":\"15741000\",\n",
    "        \"fact\":\"it is the sixth largest city in the world by the city population\",\n",
    "            },\n",
    "    \"dubai\" :  {\n",
    "        \"country\":\"UAE\",\n",
    "        \"population\":\"3137000\",\n",
    "        \"fact\":\"it is luxuriest in the world \",\n",
    "           },\n",
    "    \"ottawa\" : {\n",
    "        \"country\":\"canada\",\n",
    "        \"population\":\"23141000\",\n",
    "        \"fact\":\"it is very famous for its places\",\n",
    "           },\n",
    "}\n",
    "\n",
    "print(\"Currently we have 3 cities database which is below mentioned\\n\")\n",
    "for cities_name in cities.keys():\n",
    "    print(cities_name)\n",
    "city = input(\"\\nEnter above mentioned city name to fetch data from \")\n",
    "for city_key,city_val in cities.items():\n",
    "    if city_key == city:\n",
    "        print(str(city_key) + \" : \" + str(city_val))\n",
    "    "
   ]
  },
  {
   "cell_type": "code",
   "execution_count": 49,
   "metadata": {},
   "outputs": [
    {
     "name": "stdout",
     "output_type": "stream",
     "text": [
      "one of my favorite book is alice_in_wonderland\n"
     ]
    }
   ],
   "source": [
    "#question 4\n",
    "def favorite_book(title):\n",
    "    print(\"one of my favorite book is \" + title)\n",
    "    \n",
    "favorite_book(\"alice_in_wonderland\")"
   ]
  }
 ],
 "metadata": {
  "kernelspec": {
   "display_name": "Python 3",
   "language": "python",
   "name": "python3"
  },
  "language_info": {
   "codemirror_mode": {
    "name": "ipython",
    "version": 3
   },
   "file_extension": ".py",
   "mimetype": "text/x-python",
   "name": "python",
   "nbconvert_exporter": "python",
   "pygments_lexer": "ipython3",
   "version": "3.7.4"
  }
 },
 "nbformat": 4,
 "nbformat_minor": 2
}

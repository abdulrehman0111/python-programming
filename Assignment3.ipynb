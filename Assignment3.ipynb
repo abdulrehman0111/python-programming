{
 "cells": [
  {
   "cell_type": "code",
   "execution_count": 1,
   "metadata": {},
   "outputs": [
    {
     "name": "stdout",
     "output_type": "stream",
     "text": [
      "ENGLISH MARKS : 75\n",
      "SCIENCE MARKS : 88\n",
      "COMPUTER MARKS : 83\n",
      "URDU MARKS : 77\n",
      "MATH MARKS : 90\n",
      "TOTAL MARKS : 413\n",
      "PERCENTAGE : 82.6\n",
      "GRADE : A+\n"
     ]
    }
   ],
   "source": [
    "eng = int(input(\"ENGLISH MARKS : \"))\n",
    "sci = int(input(\"SCIENCE MARKS : \"))\n",
    "comp = int(input(\"COMPUTER MARKS : \"))\n",
    "urdu = int(input(\"URDU MARKS : \"))\n",
    "math = int(input(\"MATH MARKS : \"))\n",
    "total = eng + sci + comp + urdu + math\n",
    "per = (total/500)*100\n",
    "print(\"TOTAL MARKS :\",total)\n",
    "print(\"PERCENTAGE :\",per)\n",
    "if per >= 80:\n",
    "    print(\"GRADE : A+\")\n",
    "elif per >= 70:\n",
    "    print(\"GRADE : A\")\n",
    "elif per >= 60:\n",
    "    print(\"GRADE : B\")\n",
    "else:\n",
    "    print(\"GRADE : VERY LOW\")"
   ]
  },
  {
   "cell_type": "code",
   "execution_count": 2,
   "metadata": {},
   "outputs": [
    {
     "name": "stdout",
     "output_type": "stream",
     "text": [
      "ENTER ANY NUMBER :21\n",
      "21 IS ODD NUMBER\n"
     ]
    }
   ],
   "source": [
    "num = int(input(\"ENTER ANY NUMBER :\"))\n",
    "if num%2 == 0:\n",
    "    print(num, \"IS EVEN NUMBER\")\n",
    "else:\n",
    "    print(num, \"IS ODD NUMBER\")"
   ]
  },
  {
   "cell_type": "code",
   "execution_count": 3,
   "metadata": {},
   "outputs": [
    {
     "name": "stdout",
     "output_type": "stream",
     "text": [
      "THE LENGHT OF THE NUMBER IS : 5\n"
     ]
    }
   ],
   "source": [
    "List = [\"MANGO\", \"BANANA\", \"ORANGE\", \"APPLE\", \"GUAVA\"] \n",
    "print(\"THE LENGHT OF THE NUMBER IS :\", len(List))"
   ]
  },
  {
   "cell_type": "code",
   "execution_count": 4,
   "metadata": {},
   "outputs": [
    {
     "name": "stdout",
     "output_type": "stream",
     "text": [
      "SUM OF THE LIST IS : 150\n"
     ]
    }
   ],
   "source": [
    "List = [10, 20, 30, 40, 50]\n",
    "Addition = sum(List) \n",
    "print(\"SUM OF THE LIST IS :\", Addition)"
   ]
  },
  {
   "cell_type": "code",
   "execution_count": 5,
   "metadata": {},
   "outputs": [
    {
     "name": "stdout",
     "output_type": "stream",
     "text": [
      "MAXIMUM NUMBER IN THE LIST IS : 50\n"
     ]
    }
   ],
   "source": [
    "List = [10, 20, 30, 40, 50]\n",
    "print(\"MAXIMUM NUMBER IN THE LIST IS :\", max(List))"
   ]
  },
  {
   "cell_type": "code",
   "execution_count": 6,
   "metadata": {},
   "outputs": [
    {
     "name": "stdout",
     "output_type": "stream",
     "text": [
      "NUMBERS WHICH IS LESS THAN 5 IS : 1\n",
      "NUMBERS WHICH IS LESS THAN 5 IS : 1\n",
      "NUMBERS WHICH IS LESS THAN 5 IS : 2\n",
      "NUMBERS WHICH IS LESS THAN 5 IS : 3\n"
     ]
    }
   ],
   "source": [
    "List = [1, 1, 2, 3, 5, 8, 13, 21, 34, 55, 89]\n",
    "for num in List:\n",
    "    if num < 5:\n",
    "        print(\"NUMBERS WHICH IS LESS THAN 5 IS :\", num)"
   ]
  },
  {
   "cell_type": "code",
   "execution_count": null,
   "metadata": {},
   "outputs": [],
   "source": []
  }
 ],
 "metadata": {
  "kernelspec": {
   "display_name": "Python 3",
   "language": "python",
   "name": "python3"
  },
  "language_info": {
   "codemirror_mode": {
    "name": "ipython",
    "version": 3
   },
   "file_extension": ".py",
   "mimetype": "text/x-python",
   "name": "python",
   "nbconvert_exporter": "python",
   "pygments_lexer": "ipython3",
   "version": "3.7.4"
  }
 },
 "nbformat": 4,
 "nbformat_minor": 2
}

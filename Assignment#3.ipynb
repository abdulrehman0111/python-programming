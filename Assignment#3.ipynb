{
 "cells": [
  {
   "cell_type": "code",
   "execution_count": 1,
   "metadata": {},
   "outputs": [
    {
     "name": "stdout",
     "output_type": "stream",
     "text": [
      "ENTER 1ST VALUE :6\n",
      "ENTER 2ND VALUE :3\n",
      "ENTER ANY OPERAND :*\n",
      "ANSWER : 18\n"
     ]
    }
   ],
   "source": [
    "#simple calculator\n",
    "val1 = int(input(\"ENTER 1ST VALUE :\"))\n",
    "val2 = int(input(\"ENTER 2ND VALUE :\"))\n",
    "operator = input(\"ENTER ANY OPERAND :\")\n",
    "if operator == \"+\":\n",
    "    val = val1 + val2\n",
    "    print(\"ANSWER :\", val)\n",
    "elif operator == \"-\":\n",
    "    val = val1 - val2\n",
    "    print(\"ANSWER :\", val)\n",
    "elif operator == \"*\":\n",
    "    val = val1 * val2\n",
    "    print(\"ANSWER :\", val)    \n",
    "elif operator == \"/\":\n",
    "    val = val1 / val2\n",
    "    print(\"ANSWER :\", val)    \n",
    "elif operator == \"**\":\n",
    "    val = val1 ** val2\n",
    "    print(\"ANSWER :\", val)\n",
    "else:\n",
    "    print(\"INVALID OPERAND, PLEASE RE-ENTER YOUR OPERAND\")"
   ]
  },
  {
   "cell_type": "code",
   "execution_count": 2,
   "metadata": {},
   "outputs": [
    {
     "name": "stdout",
     "output_type": "stream",
     "text": [
      "23 is a numeric value in list\n",
      "108 is a numeric value in list\n",
      "5 is a numeric value in list\n",
      "2.6 is a numeric value in list\n"
     ]
    }
   ],
   "source": [
    "#all numeric values in list\n",
    "list = [\"abdul\", \"rehman\", 23, 108, 5, True, 2.6]\n",
    "for i in list:\n",
    "    if type(i) == int:\n",
    "        print(i, \"is a numeric value in list\")\n",
    "    elif type(i) == float:\n",
    "        print(i, \"is a numeric value in list\")  "
   ]
  },
  {
   "cell_type": "code",
   "execution_count": 3,
   "metadata": {},
   "outputs": [
    {
     "name": "stdout",
     "output_type": "stream",
     "text": [
      "ENTER KEY :4\n",
      "ENTER VALUE :50\n",
      "{0: 10, 1: 20, 2: 30, 3: 40, '4': '50'}\n"
     ]
    }
   ],
   "source": [
    "#python script to add a key to a dictionary\n",
    "dic = {0:10, 1:20, 2:30, 3:40}\n",
    "keyinput = input(\"ENTER KEY :\")\n",
    "valueinput = input(\"ENTER VALUE :\")\n",
    "dic.update({keyinput:valueinput})\n",
    "print(dic)"
   ]
  },
  {
   "cell_type": "code",
   "execution_count": 4,
   "metadata": {},
   "outputs": [
    {
     "name": "stdout",
     "output_type": "stream",
     "text": [
      "Sum : 600\n"
     ]
    }
   ],
   "source": [
    "#sum of numeric value in dictionary\n",
    "def returnsum(mydict):\n",
    "    sum = 0 \n",
    "    for i in mydict:\n",
    "        sum = sum + mydict[i]\n",
    "        \n",
    "    return sum \n",
    "#driver function\n",
    "dict = {'a' : 100, 'b' : 200, 'c' : 300}\n",
    "print(\"Sum :\", returnsum(dict))"
   ]
  },
  {
   "cell_type": "code",
   "execution_count": 5,
   "metadata": {},
   "outputs": [
    {
     "data": {
      "text/plain": [
       "{1, 4, 5}"
      ]
     },
     "execution_count": 5,
     "metadata": {},
     "output_type": "execute_result"
    }
   ],
   "source": [
    "#duplicate values in list\n",
    "list = [1,2,3,4,4,5,5,6,1]\n",
    "set([x for x in list if list.count(x) > 1])"
   ]
  },
  {
   "cell_type": "code",
   "execution_count": 6,
   "metadata": {},
   "outputs": [
    {
     "name": "stdout",
     "output_type": "stream",
     "text": [
      "key is present in the dictionary\n",
      "key is not present in dictionary\n"
     ]
    }
   ],
   "source": [
    "#script to find alredy exist key in dictionary\n",
    "dic = {1 : 10, 2 : 20, 3 : 30, 4 : 40, 5 :50, 6 :60}\n",
    "def is_key_present(x):\n",
    "    if x in dic:\n",
    "        print(\"key is present in the dictionary\")\n",
    "    else:\n",
    "        print(\"key is not present in dictionary\")\n",
    "is_key_present(5)\n",
    "is_key_present(9)"
   ]
  },
  {
   "cell_type": "code",
   "execution_count": null,
   "metadata": {},
   "outputs": [],
   "source": []
  }
 ],
 "metadata": {
  "kernelspec": {
   "display_name": "Python 3",
   "language": "python",
   "name": "python3"
  },
  "language_info": {
   "codemirror_mode": {
    "name": "ipython",
    "version": 3
   },
   "file_extension": ".py",
   "mimetype": "text/x-python",
   "name": "python",
   "nbconvert_exporter": "python",
   "pygments_lexer": "ipython3",
   "version": "3.7.4"
  }
 },
 "nbformat": 4,
 "nbformat_minor": 2
}
